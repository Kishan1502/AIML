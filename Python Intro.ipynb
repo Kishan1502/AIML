{
 "cells": [
  {
   "cell_type": "code",
   "execution_count": 3,
   "metadata": {},
   "outputs": [
    {
     "name": "stdout",
     "output_type": "stream",
     "text": [
      "Hello World!\n"
     ]
    }
   ],
   "source": [
    "print(\"Hello World!\")"
   ]
  },
  {
   "cell_type": "code",
   "execution_count": 4,
   "metadata": {},
   "outputs": [
    {
     "name": "stdout",
     "output_type": "stream",
     "text": [
      "What is your first name?:Dharani\n"
     ]
    }
   ],
   "source": [
    "fname=input(\"What is your first name?:\")"
   ]
  },
  {
   "cell_type": "code",
   "execution_count": 9,
   "metadata": {},
   "outputs": [
    {
     "name": "stdout",
     "output_type": "stream",
     "text": [
      "Dharani\n"
     ]
    }
   ],
   "source": [
    "print(fname)"
   ]
  },
  {
   "cell_type": "code",
   "execution_count": 10,
   "metadata": {},
   "outputs": [
    {
     "name": "stdout",
     "output_type": "stream",
     "text": [
      "What is your surname?:Nachimetla\n"
     ]
    }
   ],
   "source": [
    "sname=input(\"What is your surname?:\")"
   ]
  },
  {
   "cell_type": "code",
   "execution_count": 11,
   "metadata": {},
   "outputs": [
    {
     "name": "stdout",
     "output_type": "stream",
     "text": [
      "Dharani Nachimetla\n"
     ]
    }
   ],
   "source": [
    "print(fname,sname)"
   ]
  },
  {
   "cell_type": "markdown",
   "metadata": {},
   "source": [
    "For loops are useful for executing a command over a large number of items. You can create a for loop:"
   ]
  },
  {
   "cell_type": "code",
   "execution_count": 1,
   "metadata": {},
   "outputs": [
    {
     "name": "stdout",
     "output_type": "stream",
     "text": [
      "1\n",
      "2\n",
      "3\n"
     ]
    }
   ],
   "source": [
    "for letter in '123':\n",
    "    #print(letter.upper())\n",
    "    print(letter)"
   ]
  },
  {
   "cell_type": "markdown",
   "metadata": {},
   "source": [
    "### Data Types\n",
    "\n",
    "#### Integers, Floats, Lists, Dictionaries, Tuples\n",
    "\n",
    "##### Integers are for representing whole numbers:\n",
    "* rank = 10\n",
    "* eggs = 12\n",
    "* people = 3\n",
    "\n",
    "##### Floats represent continuous values:\n",
    "* temperature = 10.2\n",
    "* rainfall = 5.98\n",
    "* elevation = 1031.88\n",
    "\n",
    "#### Strings represent any text:\n",
    "message = \"Welcome to our online shop!\"\n",
    "name = \"John\"\n",
    "serial = \"R001991981SW\"\n",
    "\n",
    "#### Lists represent arrays of values that may change during the course of the program:\n",
    "members = [\"Sim Soony\", \"Marry Roundknee\", \"Jack Corridor\"]\n",
    "pixel_values = [252, 251, 251, 253, 250, 248, 247]\n",
    "\n",
    "#### Tuples represent arrays of values that are not to be changed during the course of the program:\n",
    "vowels = ('a', 'e', 'i', 'o', 'u')\n",
    "one_digits = (0, 1, 2, 3, 4, 5, 6, 7, 8, 9)\n",
    "\n",
    "#### Dictionaries represent pairs of keys and values:\n",
    "phone_numbers = {\"John Smith\": \"+37682929928\", \"Marry Simpons\": \"+423998200919\"}\n",
    "volcano_elevations = {\"Glacier Peak\": 3213.9, \"Rainer\": 4392.1}\n",
    "\n",
    "##### Keys of a dictionary can be extracted with:\n",
    "phone_numbers.keys()\n",
    "\n",
    "##### Values of a dictionary can be extracted with:\n",
    "phone_numbers.values()"
   ]
  },
  {
   "cell_type": "code",
   "execution_count": 1,
   "metadata": {},
   "outputs": [
    {
     "name": "stdout",
     "output_type": "stream",
     "text": [
      "Anubha S\n",
      "Swaraj D\n",
      "+918682929928\n",
      "+919998200919\n"
     ]
    }
   ],
   "source": [
    "# The name after \"for\" (e.g. letter) is just a variable name\n",
    "# You can loop over dictionary keys:\n",
    "phone_numbers = {\"Anubha S\":\"+918682929928\",\"Swaraj D\":\"+919998200919\"}\n",
    "for name in phone_numbers.keys():\n",
    "    print(name)\n",
    "    \n",
    "for phone in phone_numbers.values():\n",
    "    print(phone)"
   ]
  },
  {
   "cell_type": "code",
   "execution_count": 2,
   "metadata": {},
   "outputs": [
    {
     "data": {
      "text/plain": [
       "27"
      ]
     },
     "execution_count": 2,
     "metadata": {},
     "output_type": "execute_result"
    }
   ],
   "source": [
    "# Define a function with any attribute (say a)\n",
    "def cube_volume(a):\n",
    "    return a * a * a\n",
    "\n",
    "# Call the function with its name & pass the value of attribute a\n",
    "cube_volume(3)"
   ]
  },
  {
   "cell_type": "code",
   "execution_count": 15,
   "metadata": {},
   "outputs": [
    {
     "name": "stdout",
     "output_type": "stream",
     "text": [
      "Type a greeting with Hello, Hi or Hey: Hey there fellow\n",
      "Hey!\n"
     ]
    }
   ],
   "source": [
    "# Get any input\n",
    "message1 = input(\"Type a greeting with Hello, Hi or Hey: \")\n",
    "\n",
    "# convert input text to lowercase\n",
    "message=message1.lower()\n",
    "\n",
    "# Write a conditional block of multiple conditions:\n",
    "if \"hello\" in message:\n",
    "    print(\"Hello!\")\n",
    "elif \"hi\" in message:\n",
    "    print(\"Hi!\")\n",
    "elif \"hey\" in message:\n",
    "    print(\"Hey!\")\n",
    "else:\n",
    "    print(\"I don't understand\")"
   ]
  },
  {
   "cell_type": "markdown",
   "metadata": {},
   "source": [
    "The input function converts any input to a string, but you can convert it back to int or float:"
   ]
  },
  {
   "cell_type": "code",
   "execution_count": 26,
   "metadata": {},
   "outputs": [
    {
     "name": "stdout",
     "output_type": "stream",
     "text": [
      "What is X? Enter any positive integer <5: 2\n",
      "Yes - you guessed X correctly\n"
     ]
    }
   ],
   "source": [
    "x = 2\n",
    "ystr = input('What is X? Enter any positive integer <5: ')\n",
    "y=int(ystr)\n",
    "if x == y:\n",
    "    print(\"Yes - you guessed X correctly\")\n",
    "else:\n",
    "    print(\"No. Sorry. Wrong Guess. Bye\")"
   ]
  },
  {
   "cell_type": "markdown",
   "metadata": {},
   "source": [
    "### Inputs \n",
    "\n",
    "#### 1. Input variables in program"
   ]
  },
  {
   "cell_type": "code",
   "execution_count": 16,
   "metadata": {},
   "outputs": [
    {
     "data": {
      "text/plain": [
       "[89, 92, 78, 83, 91]"
      ]
     },
     "execution_count": 16,
     "metadata": {},
     "output_type": "execute_result"
    }
   ],
   "source": [
    "marks = [89,92,78,83,91]\n",
    "marks"
   ]
  },
  {
   "cell_type": "markdown",
   "metadata": {},
   "source": [
    "#### Interesting pipe %s operator in Python 2 & 3.\n",
    "This pipe operator helps embed any one or multiple variables inside another say output string. Order in which these variables will appear is same as the order of the variables in the program."
   ]
  },
  {
   "cell_type": "code",
   "execution_count": 29,
   "metadata": {},
   "outputs": [
    {
     "name": "stdout",
     "output_type": "stream",
     "text": [
      "Hi Deb, you have 1.5 years of experience.\n"
     ]
    }
   ],
   "source": [
    "name = \"Deb\"\n",
    "experience_years = 1.5\n",
    "print(\"Hi %s, you have %s years of experience.\" % (name, experience_years))"
   ]
  },
  {
   "cell_type": "markdown",
   "metadata": {},
   "source": [
    "#### 2. Loading file inputs (.csv from same directory)"
   ]
  },
  {
   "cell_type": "code",
   "execution_count": 1,
   "metadata": {},
   "outputs": [],
   "source": [
    "# Load pandas libraries to read csv\n",
    "# Read csv into a data frame (can call it any name - df is popular)\n",
    "# Can use this syntax \"from pandas import read_csv\". But more common is to\n",
    "import pandas as pd\n",
    "df = pd.read_csv(\"https://raw.githubusercontent.com/PhilippeCodes/World-Happiness-Report-Data-Analysis/master/World%20Happiness%20Report.csv\")"
   ]
  },
  {
   "cell_type": "code",
   "execution_count": 2,
   "metadata": {},
   "outputs": [
    {
     "data": {
      "text/html": [
       "<div>\n",
       "<style scoped>\n",
       "    .dataframe tbody tr th:only-of-type {\n",
       "        vertical-align: middle;\n",
       "    }\n",
       "\n",
       "    .dataframe tbody tr th {\n",
       "        vertical-align: top;\n",
       "    }\n",
       "\n",
       "    .dataframe thead th {\n",
       "        text-align: right;\n",
       "    }\n",
       "</style>\n",
       "<table border=\"1\" class=\"dataframe\">\n",
       "  <thead>\n",
       "    <tr style=\"text-align: right;\">\n",
       "      <th></th>\n",
       "      <th>Country</th>\n",
       "      <th>Happiness Rank</th>\n",
       "      <th>Happiness Score</th>\n",
       "      <th>Economy</th>\n",
       "      <th>Family</th>\n",
       "      <th>Health</th>\n",
       "      <th>Freedom</th>\n",
       "      <th>Generosity</th>\n",
       "      <th>Corruption</th>\n",
       "      <th>Dystopia</th>\n",
       "      <th>Job Satisfaction</th>\n",
       "      <th>Region</th>\n",
       "    </tr>\n",
       "  </thead>\n",
       "  <tbody>\n",
       "    <tr>\n",
       "      <th>0</th>\n",
       "      <td>Norway</td>\n",
       "      <td>1</td>\n",
       "      <td>7.537</td>\n",
       "      <td>1.616463</td>\n",
       "      <td>1.533524</td>\n",
       "      <td>0.796667</td>\n",
       "      <td>0.635423</td>\n",
       "      <td>0.362012</td>\n",
       "      <td>0.315964</td>\n",
       "      <td>2.277027</td>\n",
       "      <td>94.6</td>\n",
       "      <td>Western Europe</td>\n",
       "    </tr>\n",
       "    <tr>\n",
       "      <th>1</th>\n",
       "      <td>Denmark</td>\n",
       "      <td>2</td>\n",
       "      <td>7.522</td>\n",
       "      <td>1.482383</td>\n",
       "      <td>1.551122</td>\n",
       "      <td>0.792566</td>\n",
       "      <td>0.626007</td>\n",
       "      <td>0.355280</td>\n",
       "      <td>0.400770</td>\n",
       "      <td>2.313707</td>\n",
       "      <td>93.5</td>\n",
       "      <td>Western Europe</td>\n",
       "    </tr>\n",
       "    <tr>\n",
       "      <th>2</th>\n",
       "      <td>Iceland</td>\n",
       "      <td>3</td>\n",
       "      <td>7.504</td>\n",
       "      <td>1.480633</td>\n",
       "      <td>1.610574</td>\n",
       "      <td>0.833552</td>\n",
       "      <td>0.627163</td>\n",
       "      <td>0.475540</td>\n",
       "      <td>0.153527</td>\n",
       "      <td>2.322715</td>\n",
       "      <td>94.5</td>\n",
       "      <td>Western Europe</td>\n",
       "    </tr>\n",
       "    <tr>\n",
       "      <th>3</th>\n",
       "      <td>Switzerland</td>\n",
       "      <td>4</td>\n",
       "      <td>7.494</td>\n",
       "      <td>1.564980</td>\n",
       "      <td>1.516912</td>\n",
       "      <td>0.858131</td>\n",
       "      <td>0.620071</td>\n",
       "      <td>0.290549</td>\n",
       "      <td>0.367007</td>\n",
       "      <td>2.276716</td>\n",
       "      <td>93.7</td>\n",
       "      <td>Western Europe</td>\n",
       "    </tr>\n",
       "    <tr>\n",
       "      <th>4</th>\n",
       "      <td>Finland</td>\n",
       "      <td>5</td>\n",
       "      <td>7.469</td>\n",
       "      <td>1.443572</td>\n",
       "      <td>1.540247</td>\n",
       "      <td>0.809158</td>\n",
       "      <td>0.617951</td>\n",
       "      <td>0.245483</td>\n",
       "      <td>0.382612</td>\n",
       "      <td>2.430182</td>\n",
       "      <td>91.2</td>\n",
       "      <td>Western Europe</td>\n",
       "    </tr>\n",
       "  </tbody>\n",
       "</table>\n",
       "</div>"
      ],
      "text/plain": [
       "       Country  Happiness Rank  Happiness Score   Economy    Family    Health  \\\n",
       "0       Norway               1            7.537  1.616463  1.533524  0.796667   \n",
       "1      Denmark               2            7.522  1.482383  1.551122  0.792566   \n",
       "2      Iceland               3            7.504  1.480633  1.610574  0.833552   \n",
       "3  Switzerland               4            7.494  1.564980  1.516912  0.858131   \n",
       "4      Finland               5            7.469  1.443572  1.540247  0.809158   \n",
       "\n",
       "    Freedom  Generosity  Corruption  Dystopia  Job Satisfaction  \\\n",
       "0  0.635423    0.362012    0.315964  2.277027              94.6   \n",
       "1  0.626007    0.355280    0.400770  2.313707              93.5   \n",
       "2  0.627163    0.475540    0.153527  2.322715              94.5   \n",
       "3  0.620071    0.290549    0.367007  2.276716              93.7   \n",
       "4  0.617951    0.245483    0.382612  2.430182              91.2   \n",
       "\n",
       "           Region  \n",
       "0  Western Europe  \n",
       "1  Western Europe  \n",
       "2  Western Europe  \n",
       "3  Western Europe  \n",
       "4  Western Europe  "
      ]
     },
     "execution_count": 2,
     "metadata": {},
     "output_type": "execute_result"
    }
   ],
   "source": [
    "# Check if you have loaded data set called df\n",
    "df.head()"
   ]
  },
  {
   "cell_type": "code",
   "execution_count": 4,
   "metadata": {},
   "outputs": [
    {
     "data": {
      "text/html": [
       "<div>\n",
       "<style scoped>\n",
       "    .dataframe tbody tr th:only-of-type {\n",
       "        vertical-align: middle;\n",
       "    }\n",
       "\n",
       "    .dataframe tbody tr th {\n",
       "        vertical-align: top;\n",
       "    }\n",
       "\n",
       "    .dataframe thead th {\n",
       "        text-align: right;\n",
       "    }\n",
       "</style>\n",
       "<table border=\"1\" class=\"dataframe\">\n",
       "  <thead>\n",
       "    <tr style=\"text-align: right;\">\n",
       "      <th></th>\n",
       "      <th>ID</th>\n",
       "      <th>Happiness Rank</th>\n",
       "      <th>Happiness Score</th>\n",
       "      <th>Economy (GDP per Capita)</th>\n",
       "      <th>Family</th>\n",
       "      <th>Health (Life Expectancy)</th>\n",
       "      <th>Freedom</th>\n",
       "      <th>Trust (Government Corruption)</th>\n",
       "      <th>Generosity</th>\n",
       "      <th>Dystopia Residual</th>\n",
       "      <th>Year</th>\n",
       "    </tr>\n",
       "  </thead>\n",
       "  <tbody>\n",
       "    <tr>\n",
       "      <th>count</th>\n",
       "      <td>495.000000</td>\n",
       "      <td>470.000000</td>\n",
       "      <td>470.000000</td>\n",
       "      <td>470.000000</td>\n",
       "      <td>470.000000</td>\n",
       "      <td>470.000000</td>\n",
       "      <td>470.000000</td>\n",
       "      <td>470.000000</td>\n",
       "      <td>470.000000</td>\n",
       "      <td>470.000000</td>\n",
       "      <td>495.000000</td>\n",
       "    </tr>\n",
       "    <tr>\n",
       "      <th>mean</th>\n",
       "      <td>247.000000</td>\n",
       "      <td>78.829787</td>\n",
       "      <td>5.370728</td>\n",
       "      <td>0.927830</td>\n",
       "      <td>0.990347</td>\n",
       "      <td>0.579968</td>\n",
       "      <td>0.402828</td>\n",
       "      <td>0.134790</td>\n",
       "      <td>0.242241</td>\n",
       "      <td>2.092717</td>\n",
       "      <td>2016.000000</td>\n",
       "    </tr>\n",
       "    <tr>\n",
       "      <th>std</th>\n",
       "      <td>143.038456</td>\n",
       "      <td>45.281408</td>\n",
       "      <td>1.136998</td>\n",
       "      <td>0.415584</td>\n",
       "      <td>0.318707</td>\n",
       "      <td>0.240161</td>\n",
       "      <td>0.150356</td>\n",
       "      <td>0.111313</td>\n",
       "      <td>0.131543</td>\n",
       "      <td>0.565772</td>\n",
       "      <td>0.817323</td>\n",
       "    </tr>\n",
       "    <tr>\n",
       "      <th>min</th>\n",
       "      <td>0.000000</td>\n",
       "      <td>1.000000</td>\n",
       "      <td>2.693000</td>\n",
       "      <td>0.000000</td>\n",
       "      <td>0.000000</td>\n",
       "      <td>0.000000</td>\n",
       "      <td>0.000000</td>\n",
       "      <td>0.000000</td>\n",
       "      <td>0.000000</td>\n",
       "      <td>0.328580</td>\n",
       "      <td>2015.000000</td>\n",
       "    </tr>\n",
       "    <tr>\n",
       "      <th>25%</th>\n",
       "      <td>123.500000</td>\n",
       "      <td>40.000000</td>\n",
       "      <td>4.509000</td>\n",
       "      <td>0.605292</td>\n",
       "      <td>0.793000</td>\n",
       "      <td>0.402301</td>\n",
       "      <td>0.297615</td>\n",
       "      <td>0.059777</td>\n",
       "      <td>0.152831</td>\n",
       "      <td>1.737975</td>\n",
       "      <td>2015.000000</td>\n",
       "    </tr>\n",
       "    <tr>\n",
       "      <th>50%</th>\n",
       "      <td>247.000000</td>\n",
       "      <td>79.000000</td>\n",
       "      <td>5.282500</td>\n",
       "      <td>0.995439</td>\n",
       "      <td>1.025665</td>\n",
       "      <td>0.630053</td>\n",
       "      <td>0.418347</td>\n",
       "      <td>0.099502</td>\n",
       "      <td>0.223140</td>\n",
       "      <td>2.094640</td>\n",
       "      <td>2016.000000</td>\n",
       "    </tr>\n",
       "    <tr>\n",
       "      <th>75%</th>\n",
       "      <td>370.500000</td>\n",
       "      <td>118.000000</td>\n",
       "      <td>6.233750</td>\n",
       "      <td>1.252443</td>\n",
       "      <td>1.228745</td>\n",
       "      <td>0.768298</td>\n",
       "      <td>0.516850</td>\n",
       "      <td>0.173161</td>\n",
       "      <td>0.315824</td>\n",
       "      <td>2.455575</td>\n",
       "      <td>2017.000000</td>\n",
       "    </tr>\n",
       "    <tr>\n",
       "      <th>max</th>\n",
       "      <td>494.000000</td>\n",
       "      <td>158.000000</td>\n",
       "      <td>7.587000</td>\n",
       "      <td>1.870766</td>\n",
       "      <td>1.610574</td>\n",
       "      <td>1.025250</td>\n",
       "      <td>0.669730</td>\n",
       "      <td>0.551910</td>\n",
       "      <td>0.838075</td>\n",
       "      <td>3.837720</td>\n",
       "      <td>2017.000000</td>\n",
       "    </tr>\n",
       "  </tbody>\n",
       "</table>\n",
       "</div>"
      ],
      "text/plain": [
       "               ID  Happiness Rank  Happiness Score  Economy (GDP per Capita)  \\\n",
       "count  495.000000      470.000000       470.000000                470.000000   \n",
       "mean   247.000000       78.829787         5.370728                  0.927830   \n",
       "std    143.038456       45.281408         1.136998                  0.415584   \n",
       "min      0.000000        1.000000         2.693000                  0.000000   \n",
       "25%    123.500000       40.000000         4.509000                  0.605292   \n",
       "50%    247.000000       79.000000         5.282500                  0.995439   \n",
       "75%    370.500000      118.000000         6.233750                  1.252443   \n",
       "max    494.000000      158.000000         7.587000                  1.870766   \n",
       "\n",
       "           Family  Health (Life Expectancy)     Freedom  \\\n",
       "count  470.000000                470.000000  470.000000   \n",
       "mean     0.990347                  0.579968    0.402828   \n",
       "std      0.318707                  0.240161    0.150356   \n",
       "min      0.000000                  0.000000    0.000000   \n",
       "25%      0.793000                  0.402301    0.297615   \n",
       "50%      1.025665                  0.630053    0.418347   \n",
       "75%      1.228745                  0.768298    0.516850   \n",
       "max      1.610574                  1.025250    0.669730   \n",
       "\n",
       "       Trust (Government Corruption)  Generosity  Dystopia Residual  \\\n",
       "count                     470.000000  470.000000         470.000000   \n",
       "mean                        0.134790    0.242241           2.092717   \n",
       "std                         0.111313    0.131543           0.565772   \n",
       "min                         0.000000    0.000000           0.328580   \n",
       "25%                         0.059777    0.152831           1.737975   \n",
       "50%                         0.099502    0.223140           2.094640   \n",
       "75%                         0.173161    0.315824           2.455575   \n",
       "max                         0.551910    0.838075           3.837720   \n",
       "\n",
       "              Year  \n",
       "count   495.000000  \n",
       "mean   2016.000000  \n",
       "std       0.817323  \n",
       "min    2015.000000  \n",
       "25%    2015.000000  \n",
       "50%    2016.000000  \n",
       "75%    2017.000000  \n",
       "max    2017.000000  "
      ]
     },
     "execution_count": 4,
     "metadata": {},
     "output_type": "execute_result"
    }
   ],
   "source": [
    "# To get basic statistical info on the data set\n",
    "df.describe()"
   ]
  },
  {
   "cell_type": "code",
   "execution_count": 5,
   "metadata": {},
   "outputs": [
    {
     "name": "stdout",
     "output_type": "stream",
     "text": [
      "<class 'pandas.core.frame.DataFrame'>\n",
      "RangeIndex: 495 entries, 0 to 494\n",
      "Data columns (total 13 columns):\n",
      "ID                               495 non-null int64\n",
      "Country                          495 non-null object\n",
      "Region                           495 non-null object\n",
      "Happiness Rank                   470 non-null float64\n",
      "Happiness Score                  470 non-null float64\n",
      "Economy (GDP per Capita)         470 non-null float64\n",
      "Family                           470 non-null float64\n",
      "Health (Life Expectancy)         470 non-null float64\n",
      "Freedom                          470 non-null float64\n",
      "Trust (Government Corruption)    470 non-null float64\n",
      "Generosity                       470 non-null float64\n",
      "Dystopia Residual                470 non-null float64\n",
      "Year                             495 non-null int64\n",
      "dtypes: float64(9), int64(2), object(2)\n",
      "memory usage: 50.4+ KB\n"
     ]
    }
   ],
   "source": [
    "# To get information about the features incl null & datatypes\n",
    "df.info()"
   ]
  },
  {
   "cell_type": "markdown",
   "metadata": {},
   "source": [
    "#### 3. Loading file inputs (.csv from URL).\n",
    "You may want to load from some URL in case of large dataset that you dont want to store locally. However please note if the source changes then a lot of your code will not work & you have to re load from another source."
   ]
  },
  {
   "cell_type": "code",
   "execution_count": 7,
   "metadata": {},
   "outputs": [
    {
     "data": {
      "text/html": [
       "<div>\n",
       "<style scoped>\n",
       "    .dataframe tbody tr th:only-of-type {\n",
       "        vertical-align: middle;\n",
       "    }\n",
       "\n",
       "    .dataframe tbody tr th {\n",
       "        vertical-align: top;\n",
       "    }\n",
       "\n",
       "    .dataframe thead th {\n",
       "        text-align: right;\n",
       "    }\n",
       "</style>\n",
       "<table border=\"1\" class=\"dataframe\">\n",
       "  <thead>\n",
       "    <tr style=\"text-align: right;\">\n",
       "      <th></th>\n",
       "      <th>X1</th>\n",
       "      <th>X2</th>\n",
       "    </tr>\n",
       "  </thead>\n",
       "  <tbody>\n",
       "    <tr>\n",
       "      <th>0</th>\n",
       "      <td>v</td>\n",
       "      <td>at</td>\n",
       "    </tr>\n",
       "    <tr>\n",
       "      <th>1</th>\n",
       "      <td>t</td>\n",
       "      <td>av</td>\n",
       "    </tr>\n",
       "    <tr>\n",
       "      <th>2</th>\n",
       "      <td>w</td>\n",
       "      <td>n</td>\n",
       "    </tr>\n",
       "    <tr>\n",
       "      <th>3</th>\n",
       "      <td>t</td>\n",
       "      <td>n</td>\n",
       "    </tr>\n",
       "    <tr>\n",
       "      <th>4</th>\n",
       "      <td>v</td>\n",
       "      <td>n</td>\n",
       "    </tr>\n",
       "    <tr>\n",
       "      <th>...</th>\n",
       "      <td>...</td>\n",
       "      <td>...</td>\n",
       "    </tr>\n",
       "    <tr>\n",
       "      <th>145</th>\n",
       "      <td>s</td>\n",
       "      <td>m</td>\n",
       "    </tr>\n",
       "    <tr>\n",
       "      <th>146</th>\n",
       "      <td>aa</td>\n",
       "      <td>as</td>\n",
       "    </tr>\n",
       "    <tr>\n",
       "      <th>147</th>\n",
       "      <td>i</td>\n",
       "      <td>ap</td>\n",
       "    </tr>\n",
       "    <tr>\n",
       "      <th>148</th>\n",
       "      <td>l</td>\n",
       "      <td>ae</td>\n",
       "    </tr>\n",
       "    <tr>\n",
       "      <th>149</th>\n",
       "      <td>i</td>\n",
       "      <td>as</td>\n",
       "    </tr>\n",
       "  </tbody>\n",
       "</table>\n",
       "<p>150 rows × 2 columns</p>\n",
       "</div>"
      ],
      "text/plain": [
       "     X1  X2\n",
       "0     v  at\n",
       "1     t  av\n",
       "2     w   n\n",
       "3     t   n\n",
       "4     v   n\n",
       "..   ..  ..\n",
       "145   s   m\n",
       "146  aa  as\n",
       "147   i  ap\n",
       "148   l  ae\n",
       "149   i  as\n",
       "\n",
       "[150 rows x 2 columns]"
      ]
     },
     "execution_count": 7,
     "metadata": {},
     "output_type": "execute_result"
    }
   ],
   "source": [
    "# Load data say from some raw github dataset\n",
    "# let's open the mercedes benz dataset for demonstration\n",
    "# Download the dataset from the below link & only for the features X1 & X2\n",
    "#https://www.kaggle.com/aditya1702/mercedes-benz-data-exploration/data\n",
    "url='https://raw.githubusercontent.com/krishnaik06/Complete-Feature-Engineering/master/mercedesbenz.csv'\n",
    "df = pd.read_csv(url, usecols=['X1', 'X2'])\n",
    "df.head(150)"
   ]
  },
  {
   "cell_type": "code",
   "execution_count": null,
   "metadata": {},
   "outputs": [],
   "source": []
  }
 ],
 "metadata": {
  "kernelspec": {
   "display_name": "Python 3 (ipykernel)",
   "language": "python",
   "name": "python3"
  },
  "language_info": {
   "codemirror_mode": {
    "name": "ipython",
    "version": 3
   },
   "file_extension": ".py",
   "mimetype": "text/x-python",
   "name": "python",
   "nbconvert_exporter": "python",
   "pygments_lexer": "ipython3",
   "version": "3.9.13"
  }
 },
 "nbformat": 4,
 "nbformat_minor": 4
}
